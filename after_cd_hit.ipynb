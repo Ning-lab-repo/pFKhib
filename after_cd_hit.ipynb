{
 "cells": [
  {
   "cell_type": "code",
   "execution_count": 1,
   "id": "ad540fde-f4e3-480d-863e-8f5ab6ab9854",
   "metadata": {},
   "outputs": [],
   "source": [
    "from _collections import defaultdict\n",
    "import random\n",
    "import re"
   ]
  },
  {
   "cell_type": "code",
   "execution_count": 2,
   "id": "765bedf5-9c4a-4034-9c41-ae9f6efc6b65",
   "metadata": {},
   "outputs": [],
   "source": [
    "def get_usp10(seq, location):\n",
    "    left = location - 1\n",
    "    right = len(seq) - location\n",
    "    if left >= 10 and right > 10:\n",
    "        usp = seq[location - 10: location + 11]\n",
    "    elif left < 10 and right > 10:\n",
    "        usp = seq[0:location + 11].rjust(21, '*')\n",
    "    elif left >= 10 and right <= 10:\n",
    "        usp = seq[location - 10: -1].ljust(21, '*')\n",
    "    else:\n",
    "        usp = seq[0:location + 1].rjust(11, '*') + seq[location + 1:-1].ljust(10, '*')\n",
    "    return usp"
   ]
  },
  {
   "cell_type": "code",
   "execution_count": 3,
   "id": "aa7eb2d8-3655-4908-acb5-fd53a54ec5d0",
   "metadata": {},
   "outputs": [],
   "source": [
    "# ''' 去冗余后的fasta读入，peplist蛋白列名 3171\n",
    "fasta = open('E:/NingLab/object/khib/results/rmdup.fasta', mode='r')\n",
    "fasta = fasta.read().split('>')[1:]\n",
    "peplist = []\n",
    "for fast in fasta:\n",
    "    pepname = fast.split('\\n')[0]\n",
    "    peplist.append(pepname)"
   ]
  },
  {
   "cell_type": "code",
   "execution_count": 4,
   "id": "813e4606-d37b-4c63-bb75-a66a08304282",
   "metadata": {},
   "outputs": [
    {
     "name": "stdout",
     "output_type": "stream",
     "text": [
      "Invalid site value: Site\n"
     ]
    }
   ],
   "source": [
    "# ''' 读入蛋白id及位点 5393\n",
    "txt = open('E:/NingLab/object/khib/results/pre_training_site.txt', mode='r')\n",
    "txt = txt.readlines()\n",
    "Site_dict = defaultdict(list)\n",
    "for line in txt:\n",
    "    line = line.rstrip().split('\\t')\n",
    "    pep = line[0]\n",
    "    site_str = line[1]\n",
    "    if site_str.isdigit():  # 检查位置信息是否都是数字字符\n",
    "        site = int(site_str)\n",
    "        if pep not in Site_dict:\n",
    "            Site_dict[pep].append(site)\n",
    "        elif site not in Site_dict[pep]:\n",
    "            Site_dict[pep].append(site)\n",
    "        else:\n",
    "            continue\n",
    "    else:\n",
    "        print(f\"Invalid site value: {site_str}\")"
   ]
  },
  {
   "cell_type": "code",
   "execution_count": 5,
   "id": "1e7a9289-cb74-4afe-9903-245858ded78e",
   "metadata": {},
   "outputs": [],
   "source": [
    "# ''' 读入蛋白id及序列 5316\n",
    "Seq_dict = {}\n",
    "with open('E:/NingLab/object/khib/results/pre_training_sequences.fasta', mode='r') as fasta_file:\n",
    "    lines = fasta_file.readlines()\n",
    "\n",
    "    current_pep = None\n",
    "    current_seq = ''\n",
    "\n",
    "    for line in lines:\n",
    "        line = line.rstrip()\n",
    "        if line.startswith('>'):\n",
    "            # If the line starts with '>', it's a header line indicating a new sequence\n",
    "            if current_pep is not None:\n",
    "                Seq_dict[current_pep] = current_seq\n",
    "                current_seq = ''\n",
    "            # Extract the peptide ID without '>'\n",
    "            matches = re.findall(r'\\|(.*?)\\|', line)  # Assuming '|' are your desired symbols\n",
    "            if matches:  # Check if matches were found\n",
    "                current_pep = matches[0]  # Take the first match\n",
    "        else:\n",
    "            # Concatenate sequence lines\n",
    "            current_seq += line\n",
    "\n",
    "    # Add the last sequence to the dictionary\n",
    "    if current_pep is not None:\n",
    "        Seq_dict[current_pep] = current_seq"
   ]
  },
  {
   "cell_type": "code",
   "execution_count": 6,
   "id": "8ef9c500-751a-4aa3-9008-34be206f1618",
   "metadata": {},
   "outputs": [],
   "source": [
    "# ''' 筛选K非khib位点\n",
    "neg_Site_dict = defaultdict(list)\n",
    "for pepname in Seq_dict.keys():\n",
    "    for i, aa in enumerate(Seq_dict[pepname]):\n",
    "        site = i + 1\n",
    "        if aa == 'K' and site not in Site_dict[pepname]:\n",
    "            if pepname not in neg_Site_dict.keys():\n",
    "                neg_Site_dict[pepname].append(site)\n",
    "            elif site not in neg_Site_dict[pepname]:\n",
    "                neg_Site_dict[pepname].append(site)"
   ]
  },
  {
   "cell_type": "code",
   "execution_count": 7,
   "id": "4274a269-7e69-4256-b309-b22b2767b939",
   "metadata": {},
   "outputs": [
    {
     "name": "stdout",
     "output_type": "stream",
     "text": [
      "Site_dict 和 Seq_dict 中的键完全匹配。\n"
     ]
    }
   ],
   "source": [
    "# 获取 Site_dict 和 Seq_dict 的键集合\n",
    "site_dict_keys = set(Site_dict.keys())\n",
    "seq_dict_keys = set(Seq_dict.keys())\n",
    "\n",
    "# 获取 Site_dict 中存在而 Seq_dict 中不存在的键\n",
    "not_matched_keys = site_dict_keys - seq_dict_keys\n",
    "\n",
    "if not_matched_keys:\n",
    "    print(\"Site_dict 中存在而 Seq_dict 中不存在的键:\")\n",
    "    for key in not_matched_keys:\n",
    "        print(key)\n",
    "else:\n",
    "    print(\"Site_dict 和 Seq_dict 中的键完全匹配。\")"
   ]
  },
  {
   "cell_type": "code",
   "execution_count": 8,
   "id": "0831b78b-1bf5-4b71-9ada-cec8ca0572a7",
   "metadata": {},
   "outputs": [],
   "source": [
    "#'''pre_training有24295个pos_usp10\n",
    "pos_usp10 = {}\n",
    "for pepname in Site_dict.keys():\n",
    "    if pepname in Seq_dict:\n",
    "        for site in Site_dict[pepname]:\n",
    "            pep_site = pepname + '_' + str(site)\n",
    "            usp10 = get_usp10(Seq_dict[pepname], site - 1)\n",
    "            pos_usp10[pep_site] = usp10\n",
    "    else:\n",
    "        print(f\"Key {pepname} not found in Seq_dict.\")\n",
    "pos_len = len(pos_usp10.keys())"
   ]
  },
  {
   "cell_type": "code",
   "execution_count": 29,
   "id": "cb367c8b-71ad-42db-8c5d-8360566622a8",
   "metadata": {},
   "outputs": [],
   "source": [
    "#'''创建文本保存pos_usp10\n",
    "pos_set = open('E:/NingLab/object/khib/results/pos_Khib.txt', mode='w')\n",
    "for ps in pos_usp10.keys():\n",
    "    pos_set.write(ps + '\\t' + pos_usp10[ps] + '\\n')\n",
    "pos_set.close()"
   ]
  },
  {
   "cell_type": "code",
   "execution_count": 9,
   "id": "9ceeeee5-fe91-4c14-94ac-5e1725234798",
   "metadata": {},
   "outputs": [],
   "source": [
    "#'''随机抽取同样数量的neg_usp10\n",
    "neg_usp10 = {}\n",
    "for pepname in neg_Site_dict.keys():\n",
    "    for site in neg_Site_dict[pepname]:\n",
    "        pep_site = pepname + '_' + str(site)\n",
    "        usp10 = get_usp10(Seq_dict[pepname], site - 1)\n",
    "        neg_usp10[pep_site] = usp10\n",
    "\n",
    "neg_sample_list = random.sample(list(neg_usp10.keys()), pos_len)\n",
    "neg_set = open('E:/NingLab/object/khib/results/neg_Khib.txt', mode='w')\n",
    "for ns in neg_sample_list:\n",
    "    neg_set.write(ns + '\\t' + neg_usp10[ns] + '\\n')\n",
    "neg_set.close()"
   ]
  },
  {
   "cell_type": "code",
   "execution_count": null,
   "id": "3ec87165-32a6-4dc4-a7bf-b600acaa7094",
   "metadata": {},
   "outputs": [],
   "source": [
    "# 所有的K非khib位点 190679\n",
    "len(neg_usp10)\n",
    "neg_k = open('E:/NingLab/object/khib/results/neg_K.txt', mode='w')\n",
    "for ns in neg_usp10:\n",
    "    neg_k.write(ns + '\\t' + neg_usp10[ns] + '\\n')\n",
    " neg_k.close()"
   ]
  },
  {
   "cell_type": "code",
   "execution_count": null,
   "id": "210b3f3c-02b3-4bbb-88af-3f7ebc0bee42",
   "metadata": {},
   "outputs": [],
   "source": []
  },
  {
   "cell_type": "code",
   "execution_count": null,
   "id": "8095416c-9a6a-470f-a078-edb09f530c92",
   "metadata": {},
   "outputs": [],
   "source": [
    "# 所有的K位点 190679\n",
    "# 打开第一个文本文件并读取内容 190679\n",
    "with open('E:/NingLab/object/khib/results/neg_K.txt', 'r') as file1:\n",
    "    content1 = file1.readlines()\n",
    "\n",
    "# 打开第二个文本文件并读取内容 24295\n",
    "with open('E:/NingLab/object/khib/results/pos_Khib.txt', 'r') as file2:\n",
    "    content2 = file2.readlines()\n",
    "\n",
    "# 将两个文本内容合并 214974\n",
    "combined_content = content1 + content2\n",
    "\n",
    "# 创建新的合并后的文本文件并写入内容\n",
    "with open('E:/NingLab/object/khib/results/background_K.txt', 'w') as combined_file:\n",
    "    for line in combined_content:\n",
    "        combined_file.write(line)\n"
   ]
  },
  {
   "cell_type": "code",
   "execution_count": 2,
   "id": "f4de3c92-ac8f-47b9-9706-cc4debb5718c",
   "metadata": {},
   "outputs": [
    {
     "ename": "NameError",
     "evalue": "name 'defaultdict' is not defined",
     "output_type": "error",
     "traceback": [
      "\u001b[1;31m---------------------------------------------------------------------------\u001b[0m",
      "\u001b[1;31mNameError\u001b[0m                                 Traceback (most recent call last)",
      "Cell \u001b[1;32mIn[2], line 2\u001b[0m\n\u001b[0;32m      1\u001b[0m \u001b[38;5;66;03m#'''读入被验证的位点，并构建pos_fkhib\u001b[39;00m\n\u001b[1;32m----> 2\u001b[0m Site_dict \u001b[38;5;241m=\u001b[39m defaultdict(\u001b[38;5;28mlist\u001b[39m)\n\u001b[0;32m      3\u001b[0m pos_fsites \u001b[38;5;241m=\u001b[39m \u001b[38;5;28mopen\u001b[39m(\u001b[38;5;124m'\u001b[39m\u001b[38;5;124mE:/NingLab/object/khib/results/reported.txt\u001b[39m\u001b[38;5;124m'\u001b[39m)\n\u001b[0;32m      4\u001b[0m pos_fsites \u001b[38;5;241m=\u001b[39m pos_fsites\u001b[38;5;241m.\u001b[39mreadlines()\n",
      "\u001b[1;31mNameError\u001b[0m: name 'defaultdict' is not defined"
     ]
    }
   ],
   "source": [
    "#'''读入被验证的位点，并构建pos_fkhib\n",
    "Site_dict = defaultdict(list)\n",
    "pos_fsites = open('E:/NingLab/object/khib/results/reported.txt')\n",
    "pos_fsites = pos_fsites.readlines()\n",
    "\n",
    "for line in pos_fsites:\n",
    "    line = line.rstrip().split('\\t')\n",
    "    pep = line[0]\n",
    "    site = line[1]\n",
    "    if site.isdigit():  # 检查位置信息是否都是数字字符\n",
    "        site = int(site)\n",
    "        if pep not in Site_dict:\n",
    "            Site_dict[pep].append(site)\n",
    "        elif site not in Site_dict[pep]:\n",
    "            Site_dict[pep].append(site)\n",
    "        else:\n",
    "            continue\n",
    "    else:\n",
    "        print(f\"Invalid site value: {site}\")\n",
    "\n",
    "fpos_usp10 = {}\n",
    "for pepname in Site_dict.keys():\n",
    "    if pepname in Seq_dict:\n",
    "        for site in Site_dict[pepname]:\n",
    "            pep_site = pepname + '_' + str(site)\n",
    "            usp10 = get_usp10(Seq_dict[pepname], site - 1)\n",
    "            fpos_usp10[pep_site] = usp10\n",
    "    else:\n",
    "        print(f\"Key {pepname} not found in Seq_dict.\")\n",
    "fpos_len = len(fpos_usp10.keys())\n",
    "file = open('E:/NingLab/object/khib/results/pos_fKhib.txt', mode='w')\n",
    "for s in fpos_usp10.keys():\n",
    "    file.write(s + '\\t' + fpos_usp10[s] + '\\n')\n",
    "file.close()"
   ]
  },
  {
   "cell_type": "code",
   "execution_count": 3,
   "id": "7ecb304f-6639-4685-836a-cf1aa55d1fed",
   "metadata": {},
   "outputs": [],
   "source": [
    "#'''构建neg_fkhib\n",
    "# 读取要剔除的文件A\n",
    "with open('E:/NingLab/object/khib/results/pos_fKhib.txt', 'r') as fileA:\n",
    "    lines_to_remove = set(fileA.read().splitlines())  #16\n",
    "\n",
    "# 读取参考文件B并转换为集合类型\n",
    "with open('E:/NingLab/object/khib/results/pos_Khib.txt', 'r') as fileB:\n",
    "    reference_lines = set(fileB.read().splitlines())  #24925\n",
    "\n",
    "# 进行集合操作，获取剔除后的内容\n",
    "remaining_lines = reference_lines-lines_to_remove  # 24279\n",
    "len(remaining_lines)\n",
    "# 将剩余内容写入新文件\n",
    "with open('E:/NingLab/object/khib/results/neg_fKhib.txt', mode='w') as outfile:\n",
    "    outfile.write('\\n'.join(remaining_lines))\n"
   ]
  },
  {
   "cell_type": "code",
   "execution_count": 4,
   "id": "0bbb863d-15c9-4d2a-ba99-f05afac4ce8b",
   "metadata": {},
   "outputs": [
    {
     "data": {
      "text/plain": [
       "24279"
      ]
     },
     "execution_count": 4,
     "metadata": {},
     "output_type": "execute_result"
    }
   ],
   "source": [
    "len(remaining_lines)"
   ]
  },
  {
   "cell_type": "code",
   "execution_count": null,
   "id": "fad6a930-49a4-45fe-8db1-95ffbed4a492",
   "metadata": {},
   "outputs": [],
   "source": [
    "#'''读入差异位点，并构建usp10 590差异位点\n",
    "Site_dict = defaultdict(list)\n",
    "dif_sites = open('E:/NingLab/object/khib/results/dif_Khib.txt')\n",
    "dif_sites = dif_sites.readlines()\n",
    "\n",
    "len(dif_sites)"
   ]
  },
  {
   "cell_type": "code",
   "execution_count": null,
   "id": "fb8b1551-a6bc-4637-b075-575a48e17326",
   "metadata": {},
   "outputs": [],
   "source": [
    "for line in dif_sites:\n",
    "    line = line.rstrip().split('\\t')\n",
    "    pep = line[0]\n",
    "    site = line[1]\n",
    "    if site.isdigit():  # 检查位置信息是否都是数字字符\n",
    "        site = int(site)\n",
    "        if pep not in Site_dict:\n",
    "            Site_dict[pep].append(site)\n",
    "        elif site not in Site_dict[pep]:\n",
    "            Site_dict[pep].append(site)\n",
    "        else:\n",
    "            continue\n",
    "    else:\n",
    "        print(f\"Invalid site value: {site}\")\n",
    "\n",
    "usp10_dict = {}\n",
    "for pepname in Site_dict.keys():\n",
    "    for site in Site_dict[pepname]:\n",
    "        pep_site = pepname + '_' + str(site)\n",
    "        usp10 = get_usp10(Seq_dict[pepname], site - 1)\n",
    "        usp10_dict[pep_site] = usp10\n",
    "\n",
    "file = open('E:/NingLab/object/khib/results/experiment_sites.txt', mode='w')\n",
    "for s in usp10_dict.keys():\n",
    "    file.write(s + '\\t' + usp10_dict[s] + '\\n')\n",
    "file.close()"
   ]
  },
  {
   "cell_type": "code",
   "execution_count": 15,
   "id": "b230a303-287e-42e7-9afa-0141bfb4f4c6",
   "metadata": {},
   "outputs": [
    {
     "data": {
      "text/plain": [
       "590"
      ]
     },
     "execution_count": 15,
     "metadata": {},
     "output_type": "execute_result"
    }
   ],
   "source": []
  },
  {
   "cell_type": "code",
   "execution_count": null,
   "id": "33a9b64a-a443-4257-a376-dcd63f9d43aa",
   "metadata": {},
   "outputs": [],
   "source": []
  },
  {
   "cell_type": "code",
   "execution_count": null,
   "id": "df53ead7-7cca-4364-894d-b6903faca9d7",
   "metadata": {},
   "outputs": [],
   "source": []
  }
 ],
 "metadata": {
  "kernelspec": {
   "display_name": "Python 3 (ipykernel)",
   "language": "python",
   "name": "python3"
  },
  "language_info": {
   "codemirror_mode": {
    "name": "ipython",
    "version": 3
   },
   "file_extension": ".py",
   "mimetype": "text/x-python",
   "name": "python",
   "nbconvert_exporter": "python",
   "pygments_lexer": "ipython3",
   "version": "3.11.7"
  }
 },
 "nbformat": 4,
 "nbformat_minor": 5
}
